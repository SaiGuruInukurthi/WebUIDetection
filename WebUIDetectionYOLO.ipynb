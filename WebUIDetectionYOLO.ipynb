{
 "cells": [
  {
   "cell_type": "code",
   "execution_count": 1,
   "id": "e58c76b4-ee18-4545-8511-3126186b18f2",
   "metadata": {},
   "outputs": [
    {
     "name": "stdout",
     "output_type": "stream",
     "text": [
      "Torch version: 2.5.1+cu118\n",
      "CUDA available: True\n",
      "CUDA version: 11.8\n",
      "GPU: NVIDIA GeForce RTX 3050 Laptop GPU\n"
     ]
    }
   ],
   "source": [
    "import torch\n",
    "print(\"Torch version:\", torch.__version__)\n",
    "print(\"CUDA available:\", torch.cuda.is_available())\n",
    "if torch.cuda.is_available():\n",
    "    print(\"CUDA version:\", torch.version.cuda)\n",
    "    print(\"GPU:\", torch.cuda.get_device_name(0))\n"
   ]
  },
  {
   "cell_type": "code",
   "execution_count": 2,
   "id": "bbf242d6-cc0b-4d50-a070-b155c61b5d8d",
   "metadata": {},
   "outputs": [],
   "source": [
    "import os\n",
    "from ultralytics import YOLO"
   ]
  },
  {
   "cell_type": "code",
   "execution_count": 3,
   "id": "c83c843a-643e-4fd2-8d65-b7e0260b8a6d",
   "metadata": {},
   "outputs": [],
   "source": [
    "BASE_PATH = \"D:/hackathon/Webpage elements\"\n",
    "TRAIN_IMAGES_PATH = os.path.join(BASE_PATH, \"train/images\")\n",
    "TRAIN_LABELS_PATH = os.path.join(BASE_PATH, \"train/labels\")\n",
    "TEST_IMAGES_PATH = os.path.join(BASE_PATH, \"test/images\")\n",
    "VALID_IMAGES_PATH = os.path.join(BASE_PATH, \"valid/images\")"
   ]
  },
  {
   "cell_type": "code",
   "execution_count": 4,
   "id": "6806efca-340c-40f9-8d38-1fec737b712b",
   "metadata": {},
   "outputs": [
    {
     "name": "stdout",
     "output_type": "stream",
     "text": [
      "All images have corresponding labels.\n"
     ]
    }
   ],
   "source": [
    "train_images = sorted(os.listdir(TRAIN_IMAGES_PATH))\n",
    "train_labels = sorted(os.listdir(TRAIN_LABELS_PATH))\n",
    "\n",
    "missing_labels = [img for img in train_images if img.replace(\".jpg\", \".txt\") not in train_labels]\n",
    "if missing_labels:\n",
    "    print(f\"Missing labels for: {missing_labels}\")\n",
    "else:\n",
    "    print(\"All images have corresponding labels.\")"
   ]
  },
  {
   "cell_type": "code",
   "execution_count": 5,
   "id": "9e8d8595-9e4a-4f2b-8826-8d4d75b451ff",
   "metadata": {},
   "outputs": [
    {
     "name": "stdout",
     "output_type": "stream",
     "text": [
      "data.yaml created at D:/hackathon/Webpage elements\\data.yaml\n"
     ]
    }
   ],
   "source": [
    "yaml_content = f\"\"\"\n",
    "path: {BASE_PATH}\n",
    "train: train/images\n",
    "val: valid/images\n",
    "test: test/images\n",
    "\n",
    "names:\n",
    "  0: header\n",
    "  1: navbar\n",
    "  2: button\n",
    "  3: text_area\n",
    "  4: footer\n",
    "  5: image\n",
    "  6: link\n",
    "  7: text\n",
    "\"\"\"\n",
    "\n",
    "yaml_path = os.path.join(BASE_PATH, \"data.yaml\")\n",
    "with open(yaml_path, \"w\") as f:\n",
    "    f.write(yaml_content)\n",
    "print(f\"data.yaml created at {yaml_path}\")"
   ]
  },
  {
   "cell_type": "code",
   "execution_count": 7,
   "id": "2d3f5f69-76e4-44d3-9577-9b72917fca36",
   "metadata": {},
   "outputs": [
    {
     "name": "stdout",
     "output_type": "stream",
     "text": [
      "PRO TIP  Replace 'model=yolov5s.pt' with new 'model=yolov5su.pt'.\n",
      "YOLOv5 'u' models are trained with https://github.com/ultralytics/ultralytics and feature improved performance vs standard YOLOv5 models trained with https://github.com/ultralytics/yolov5.\n",
      "\n",
      "Ultralytics 8.3.57  Python-3.11.11 torch-2.5.1+cu118 CUDA:0 (NVIDIA GeForce RTX 3050 Laptop GPU, 4096MiB)\n",
      "\u001b[34m\u001b[1mengine\\trainer: \u001b[0mtask=detect, mode=train, model=yolov5s.pt, data=D:/hackathon/Webpage elements\\data.yaml, epochs=30, time=None, patience=100, batch=16, imgsz=640, save=True, save_period=-1, cache=False, device=0, workers=8, project=None, name=webpage_elements_detection9, exist_ok=False, pretrained=True, optimizer=auto, verbose=True, seed=0, deterministic=True, single_cls=False, rect=False, cos_lr=False, close_mosaic=10, resume=False, amp=True, fraction=1.0, profile=False, freeze=None, multi_scale=False, overlap_mask=True, mask_ratio=4, dropout=0.0, val=True, split=val, save_json=False, save_hybrid=False, conf=None, iou=0.7, max_det=300, half=False, dnn=False, plots=True, source=None, vid_stride=1, stream_buffer=False, visualize=False, augment=False, agnostic_nms=False, classes=None, retina_masks=False, embed=None, show=False, save_frames=False, save_txt=False, save_conf=False, save_crop=False, show_labels=True, show_conf=True, show_boxes=True, line_width=None, format=torchscript, keras=False, optimize=False, int8=False, dynamic=False, simplify=True, opset=None, workspace=None, nms=False, lr0=0.01, lrf=0.01, momentum=0.937, weight_decay=0.0005, warmup_epochs=3.0, warmup_momentum=0.8, warmup_bias_lr=0.1, box=7.5, cls=0.5, dfl=1.5, pose=12.0, kobj=1.0, nbs=64, hsv_h=0.015, hsv_s=0.7, hsv_v=0.4, degrees=0.0, translate=0.1, scale=0.5, shear=0.0, perspective=0.0, flipud=0.0, fliplr=0.5, bgr=0.0, mosaic=1.0, mixup=0.0, copy_paste=0.0, copy_paste_mode=flip, auto_augment=randaugment, erasing=0.4, crop_fraction=1.0, cfg=None, tracker=botsort.yaml, save_dir=runs\\detect\\webpage_elements_detection9\n",
      "Overriding model.yaml nc=80 with nc=8\n",
      "\n",
      "                   from  n    params  module                                       arguments                     \n",
      "  0                  -1  1      3520  ultralytics.nn.modules.conv.Conv             [3, 32, 6, 2, 2]              \n",
      "  1                  -1  1     18560  ultralytics.nn.modules.conv.Conv             [32, 64, 3, 2]                \n",
      "  2                  -1  1     18816  ultralytics.nn.modules.block.C3              [64, 64, 1]                   \n",
      "  3                  -1  1     73984  ultralytics.nn.modules.conv.Conv             [64, 128, 3, 2]               \n",
      "  4                  -1  2    115712  ultralytics.nn.modules.block.C3              [128, 128, 2]                 \n",
      "  5                  -1  1    295424  ultralytics.nn.modules.conv.Conv             [128, 256, 3, 2]              \n",
      "  6                  -1  3    625152  ultralytics.nn.modules.block.C3              [256, 256, 3]                 \n",
      "  7                  -1  1   1180672  ultralytics.nn.modules.conv.Conv             [256, 512, 3, 2]              \n",
      "  8                  -1  1   1182720  ultralytics.nn.modules.block.C3              [512, 512, 1]                 \n",
      "  9                  -1  1    656896  ultralytics.nn.modules.block.SPPF            [512, 512, 5]                 \n",
      " 10                  -1  1    131584  ultralytics.nn.modules.conv.Conv             [512, 256, 1, 1]              \n",
      " 11                  -1  1         0  torch.nn.modules.upsampling.Upsample         [None, 2, 'nearest']          \n",
      " 12             [-1, 6]  1         0  ultralytics.nn.modules.conv.Concat           [1]                           \n",
      " 13                  -1  1    361984  ultralytics.nn.modules.block.C3              [512, 256, 1, False]          \n",
      " 14                  -1  1     33024  ultralytics.nn.modules.conv.Conv             [256, 128, 1, 1]              \n",
      " 15                  -1  1         0  torch.nn.modules.upsampling.Upsample         [None, 2, 'nearest']          \n",
      " 16             [-1, 4]  1         0  ultralytics.nn.modules.conv.Concat           [1]                           \n",
      " 17                  -1  1     90880  ultralytics.nn.modules.block.C3              [256, 128, 1, False]          \n",
      " 18                  -1  1    147712  ultralytics.nn.modules.conv.Conv             [128, 128, 3, 2]              \n",
      " 19            [-1, 14]  1         0  ultralytics.nn.modules.conv.Concat           [1]                           \n",
      " 20                  -1  1    296448  ultralytics.nn.modules.block.C3              [256, 256, 1, False]          \n",
      " 21                  -1  1    590336  ultralytics.nn.modules.conv.Conv             [256, 256, 3, 2]              \n",
      " 22            [-1, 10]  1         0  ultralytics.nn.modules.conv.Concat           [1]                           \n",
      " 23                  -1  1   1182720  ultralytics.nn.modules.block.C3              [512, 512, 1, False]          \n",
      " 24        [17, 20, 23]  1   2119144  ultralytics.nn.modules.head.Detect           [8, [128, 256, 512]]          \n",
      "YOLOv5s summary: 262 layers, 9,125,288 parameters, 9,125,272 gradients, 24.1 GFLOPs\n",
      "\n",
      "Transferred 421/427 items from pretrained weights\n",
      "\u001b[34m\u001b[1mTensorBoard: \u001b[0mStart with 'tensorboard --logdir runs\\detect\\webpage_elements_detection9', view at http://localhost:6006/\n",
      "Freezing layer 'model.24.dfl.conv.weight'\n",
      "\u001b[34m\u001b[1mAMP: \u001b[0mrunning Automatic Mixed Precision (AMP) checks...\n",
      "\u001b[34m\u001b[1mAMP: \u001b[0mchecks passed \n"
     ]
    },
    {
     "name": "stderr",
     "output_type": "stream",
     "text": [
      "\u001b[34m\u001b[1mtrain: \u001b[0mScanning D:\\hackathon\\Webpage elements\\train\\labels.cache... 1688 images, 0 backgrounds, 0 corrupt: 100%|███████\u001b[0m"
     ]
    },
    {
     "name": "stdout",
     "output_type": "stream",
     "text": [
      "\u001b[34m\u001b[1mtrain: \u001b[0mWARNING  D:\\hackathon\\Webpage elements\\train\\images\\9to5mac_com_png.rf.NcF4DV5kC6mqzV9v1jIZ.jpg: 1 duplicate labels removed\n",
      "\u001b[34m\u001b[1mtrain: \u001b[0mWARNING  D:\\hackathon\\Webpage elements\\train\\images\\9to5mac_com_png.rf.b280c437f46781de696d7057495c4bf9.jpg: 1 duplicate labels removed\n",
      "\u001b[34m\u001b[1mtrain: \u001b[0mWARNING  D:\\hackathon\\Webpage elements\\train\\images\\aka_ms_png.rf.8e0bfbf8e04642c2d5d2e0882fc16785.jpg: 1 duplicate labels removed\n",
      "\u001b[34m\u001b[1mtrain: \u001b[0mWARNING  D:\\hackathon\\Webpage elements\\train\\images\\aka_ms_png.rf.PG05f68F5wIfdDnoZRhT.jpg: 1 duplicate labels removed\n",
      "\u001b[34m\u001b[1mtrain: \u001b[0mWARNING  D:\\hackathon\\Webpage elements\\train\\images\\artstation_com_png.rf.00e9b1b2a87351418ec7b46deb925259.jpg: 1 duplicate labels removed\n",
      "\u001b[34m\u001b[1mtrain: \u001b[0mWARNING  D:\\hackathon\\Webpage elements\\train\\images\\artstation_com_png.rf.NjQJluMUiA8ypgE0HBVu.jpg: 1 duplicate labels removed\n",
      "\u001b[34m\u001b[1mtrain: \u001b[0mWARNING  D:\\hackathon\\Webpage elements\\train\\images\\bangordailynews_com_png.rf.71a2026d028805acb494f816f0d77c2f.jpg: 2 duplicate labels removed\n",
      "\u001b[34m\u001b[1mtrain: \u001b[0mWARNING  D:\\hackathon\\Webpage elements\\train\\images\\bangordailynews_com_png.rf.dEhQaXlIpImyECm2ZzN8.jpg: 2 duplicate labels removed\n",
      "\u001b[34m\u001b[1mtrain: \u001b[0mWARNING  D:\\hackathon\\Webpage elements\\train\\images\\behance_net_png.rf.MRg7BnnRRv9gJ5DdJbUH.jpg: 14 duplicate labels removed\n",
      "\u001b[34m\u001b[1mtrain: \u001b[0mWARNING  D:\\hackathon\\Webpage elements\\train\\images\\behance_net_png.rf.cc0533314bf2c41c4504e63f4516ce36.jpg: 14 duplicate labels removed\n",
      "\u001b[34m\u001b[1mtrain: \u001b[0mWARNING  D:\\hackathon\\Webpage elements\\train\\images\\bing_com_png.rf.LYE99fXMkF27dwPqVfYF.jpg: 24 duplicate labels removed\n",
      "\u001b[34m\u001b[1mtrain: \u001b[0mWARNING  D:\\hackathon\\Webpage elements\\train\\images\\bing_com_png.rf.e3f668104402778e2cb846a123466840.jpg: 24 duplicate labels removed\n",
      "\u001b[34m\u001b[1mtrain: \u001b[0mWARNING  D:\\hackathon\\Webpage elements\\train\\images\\bitmex_com_png.rf.dda5aea6b0fecb710fa602201cd42e9e.jpg: 2 duplicate labels removed\n",
      "\u001b[34m\u001b[1mtrain: \u001b[0mWARNING  D:\\hackathon\\Webpage elements\\train\\images\\bitmex_com_png.rf.qXyqXp15PS9et9Xxw2lP.jpg: 2 duplicate labels removed\n",
      "\u001b[34m\u001b[1mtrain: \u001b[0mWARNING  D:\\hackathon\\Webpage elements\\train\\images\\bits_blogs_nytimes_com_png.rf.7878f849e4bfe5c2c34d746791e0504c.jpg: 3 duplicate labels removed\n",
      "\u001b[34m\u001b[1mtrain: \u001b[0mWARNING  D:\\hackathon\\Webpage elements\\train\\images\\bits_blogs_nytimes_com_png.rf.CXZJvbVFNHVfs6LPAT1a.jpg: 3 duplicate labels removed\n",
      "\u001b[34m\u001b[1mtrain: \u001b[0mWARNING  D:\\hackathon\\Webpage elements\\train\\images\\blockchain_info_png.rf.87b87d06cfa9dc16e24763ae4ead82a9.jpg: 2 duplicate labels removed\n",
      "\u001b[34m\u001b[1mtrain: \u001b[0mWARNING  D:\\hackathon\\Webpage elements\\train\\images\\blockchain_info_png.rf.lC5PdCpeYjXplT1ajp71.jpg: 2 duplicate labels removed\n",
      "\u001b[34m\u001b[1mtrain: \u001b[0mWARNING  D:\\hackathon\\Webpage elements\\train\\images\\boardgamegeek_com_png.rf.6a639f31e20e6d5d2e77281ede18e230.jpg: 1 duplicate labels removed\n",
      "\u001b[34m\u001b[1mtrain: \u001b[0mWARNING  D:\\hackathon\\Webpage elements\\train\\images\\boardgamegeek_com_png.rf.Nf090cFbGtZN4uMNX4aX.jpg: 1 duplicate labels removed\n",
      "\u001b[34m\u001b[1mtrain: \u001b[0mWARNING  D:\\hackathon\\Webpage elements\\train\\images\\business_com_png.rf.0272628bb207298b4426765483a2fab2.jpg: 1 duplicate labels removed\n",
      "\u001b[34m\u001b[1mtrain: \u001b[0mWARNING  D:\\hackathon\\Webpage elements\\train\\images\\business_com_png.rf.49C0kuX57SX4dJYo9HqF.jpg: 1 duplicate labels removed\n",
      "\u001b[34m\u001b[1mtrain: \u001b[0mWARNING  D:\\hackathon\\Webpage elements\\train\\images\\calameo_com_png.rf.510fc956c3008b084f80836e0d7a3516.jpg: 10 duplicate labels removed\n",
      "\u001b[34m\u001b[1mtrain: \u001b[0mWARNING  D:\\hackathon\\Webpage elements\\train\\images\\calameo_com_png.rf.SLkgxw0pJm2vmhiQk3GI.jpg: 10 duplicate labels removed\n",
      "\u001b[34m\u001b[1mtrain: \u001b[0mWARNING  D:\\hackathon\\Webpage elements\\train\\images\\class_ruten_com_tw_png.rf.03bcad3343f85f256461b54681442362.jpg: 8 duplicate labels removed\n",
      "\u001b[34m\u001b[1mtrain: \u001b[0mWARNING  D:\\hackathon\\Webpage elements\\train\\images\\class_ruten_com_tw_png.rf.u2jk3s5d1pZmiHqa7myC.jpg: 8 duplicate labels removed\n",
      "\u001b[34m\u001b[1mtrain: \u001b[0mWARNING  D:\\hackathon\\Webpage elements\\train\\images\\clickondetroit_com_png.rf.9wX6A0KGb7OUGrQVXHdO.jpg: 1 duplicate labels removed\n",
      "\u001b[34m\u001b[1mtrain: \u001b[0mWARNING  D:\\hackathon\\Webpage elements\\train\\images\\clickondetroit_com_png.rf.a0f97ece8bde74a0b78d8bb5822d67b4.jpg: 1 duplicate labels removed\n",
      "\u001b[34m\u001b[1mtrain: \u001b[0mWARNING  D:\\hackathon\\Webpage elements\\train\\images\\cnn_com_png.rf.6ff854b9134406830a4c9e5b2957c152.jpg: 1 duplicate labels removed\n",
      "\u001b[34m\u001b[1mtrain: \u001b[0mWARNING  D:\\hackathon\\Webpage elements\\train\\images\\cnn_com_png.rf.h5a4NeyupWr0k7znHg5f.jpg: 1 duplicate labels removed\n",
      "\u001b[34m\u001b[1mtrain: \u001b[0mWARNING  D:\\hackathon\\Webpage elements\\train\\images\\coindesk_com_png.rf.c859c7a8302cea350a02a35b5e66e57c.jpg: 1 duplicate labels removed\n",
      "\u001b[34m\u001b[1mtrain: \u001b[0mWARNING  D:\\hackathon\\Webpage elements\\train\\images\\coindesk_com_png.rf.dY9KYpO8qv0TwK914iy5.jpg: 1 duplicate labels removed\n",
      "\u001b[34m\u001b[1mtrain: \u001b[0mWARNING  D:\\hackathon\\Webpage elements\\train\\images\\collegehumor_com_png.rf.69d5b044db2056999709fd09cd7bff71.jpg: 2 duplicate labels removed\n",
      "\u001b[34m\u001b[1mtrain: \u001b[0mWARNING  D:\\hackathon\\Webpage elements\\train\\images\\collegehumor_com_png.rf.VoFZg9jIJeZlBBvoNU0M.jpg: 2 duplicate labels removed\n",
      "\u001b[34m\u001b[1mtrain: \u001b[0mWARNING  D:\\hackathon\\Webpage elements\\train\\images\\commons_wikimedia_org_png.rf.19deed128a50c4707d30c3c7a0ea2c7a.jpg: 1 duplicate labels removed\n",
      "\u001b[34m\u001b[1mtrain: \u001b[0mWARNING  D:\\hackathon\\Webpage elements\\train\\images\\commons_wikimedia_org_png.rf.jPhFsClCTRUnYu1vQ4zk.jpg: 1 duplicate labels removed\n",
      "\u001b[34m\u001b[1mtrain: \u001b[0mWARNING  D:\\hackathon\\Webpage elements\\train\\images\\de_wikipedia_org_png.rf.0o1lVbU61I7DaoDDxkxR.jpg: 1 duplicate labels removed\n",
      "\u001b[34m\u001b[1mtrain: \u001b[0mWARNING  D:\\hackathon\\Webpage elements\\train\\images\\de_wikipedia_org_png.rf.394064a7f76575ddf2638f6c8081fa03.jpg: 1 duplicate labels removed\n",
      "\u001b[34m\u001b[1mtrain: \u001b[0mWARNING  D:\\hackathon\\Webpage elements\\train\\images\\edition_cnn_com_png.rf.196fcb5120b36a1f60eeaebd1694cd84.jpg: 1 duplicate labels removed\n",
      "\u001b[34m\u001b[1mtrain: \u001b[0mWARNING  D:\\hackathon\\Webpage elements\\train\\images\\edition_cnn_com_png.rf.nXLzH1SRKwEYAWbZYR2i.jpg: 1 duplicate labels removed\n",
      "\u001b[34m\u001b[1mtrain: \u001b[0mWARNING  D:\\hackathon\\Webpage elements\\train\\images\\ello_co_png.rf.901772d3e922349f117ab3b3d55e1fe5.jpg: 2 duplicate labels removed\n",
      "\u001b[34m\u001b[1mtrain: \u001b[0mWARNING  D:\\hackathon\\Webpage elements\\train\\images\\ello_co_png.rf.EXkSOZ3vaAG3pzOd4C0Z.jpg: 2 duplicate labels removed\n",
      "\u001b[34m\u001b[1mtrain: \u001b[0mWARNING  D:\\hackathon\\Webpage elements\\train\\images\\en_wikipedia_org_png.rf.fe825dcd77650c5b28de9a4b5eedb378.jpg: 1 duplicate labels removed\n",
      "\u001b[34m\u001b[1mtrain: \u001b[0mWARNING  D:\\hackathon\\Webpage elements\\train\\images\\en_wikipedia_org_png.rf.nk3Cjb9Att7GhL8F1Kd3.jpg: 1 duplicate labels removed\n",
      "\u001b[34m\u001b[1mtrain: \u001b[0mWARNING  D:\\hackathon\\Webpage elements\\train\\images\\eplus_jp_png.rf.ea64585ac7dd115d076c931640d91b3b.jpg: 1 duplicate labels removed\n",
      "\u001b[34m\u001b[1mtrain: \u001b[0mWARNING  D:\\hackathon\\Webpage elements\\train\\images\\eplus_jp_png.rf.erRid0SYFOh2821OzPec.jpg: 1 duplicate labels removed\n",
      "\u001b[34m\u001b[1mtrain: \u001b[0mWARNING  D:\\hackathon\\Webpage elements\\train\\images\\es_wikipedia_org_png.rf.4wMbFbOYnOD3IsHb9ZTO.jpg: 1 duplicate labels removed\n",
      "\u001b[34m\u001b[1mtrain: \u001b[0mWARNING  D:\\hackathon\\Webpage elements\\train\\images\\es_wikipedia_org_png.rf.6284672f1c4d86bd315aec99be9a4e96.jpg: 1 duplicate labels removed\n",
      "\u001b[34m\u001b[1mtrain: \u001b[0mWARNING  D:\\hackathon\\Webpage elements\\train\\images\\esa_int_png.rf.12a7e8f10b4da46d256f072fddbe1227.jpg: 1 duplicate labels removed\n",
      "\u001b[34m\u001b[1mtrain: \u001b[0mWARNING  D:\\hackathon\\Webpage elements\\train\\images\\esa_int_png.rf.PsBex41mwDwAN4AlRwA2.jpg: 1 duplicate labels removed\n",
      "\u001b[34m\u001b[1mtrain: \u001b[0mWARNING  D:\\hackathon\\Webpage elements\\train\\images\\explorestlouis_com_png.rf.1c0e6d16676d90aadd0ebaee979e5ab8.jpg: 1 duplicate labels removed\n",
      "\u001b[34m\u001b[1mtrain: \u001b[0mWARNING  D:\\hackathon\\Webpage elements\\train\\images\\explorestlouis_com_png.rf.tBOrXSOv5WLLTZw0GsVF.jpg: 1 duplicate labels removed\n",
      "\u001b[34m\u001b[1mtrain: \u001b[0mWARNING  D:\\hackathon\\Webpage elements\\train\\images\\ey_com_png.rf.04f834232a0eb6c6ce2b25466c5fbb48.jpg: 5 duplicate labels removed\n",
      "\u001b[34m\u001b[1mtrain: \u001b[0mWARNING  D:\\hackathon\\Webpage elements\\train\\images\\ey_com_png.rf.lhyCO2Cyc0o0hUsKERm6.jpg: 5 duplicate labels removed\n",
      "\u001b[34m\u001b[1mtrain: \u001b[0mWARNING  D:\\hackathon\\Webpage elements\\train\\images\\fastcompany_com_png.rf.18I8owzuDml3WgZVX8vY.jpg: 1 duplicate labels removed\n",
      "\u001b[34m\u001b[1mtrain: \u001b[0mWARNING  D:\\hackathon\\Webpage elements\\train\\images\\fastcompany_com_png.rf.4825bf529101d4ff2dfca5263ab4b478.jpg: 1 duplicate labels removed\n",
      "\u001b[34m\u001b[1mtrain: \u001b[0mWARNING  D:\\hackathon\\Webpage elements\\train\\images\\finance_yahoo_com_png.rf.SLohORFvmGk1s3JLL26Y.jpg: 1 duplicate labels removed\n",
      "\u001b[34m\u001b[1mtrain: \u001b[0mWARNING  D:\\hackathon\\Webpage elements\\train\\images\\finance_yahoo_com_png.rf.ca8ae5dfd03b66734f2172a6b0a31f8b.jpg: 1 duplicate labels removed\n",
      "\u001b[34m\u001b[1mtrain: \u001b[0mWARNING  D:\\hackathon\\Webpage elements\\train\\images\\fineartamerica_com_png.rf.a0fa4ba4f678e08ad81905d86d86e8a3.jpg: 3 duplicate labels removed\n",
      "\u001b[34m\u001b[1mtrain: \u001b[0mWARNING  D:\\hackathon\\Webpage elements\\train\\images\\fineartamerica_com_png.rf.hVtxzEHotgKggnXvpYS7.jpg: 3 duplicate labels removed\n",
      "\u001b[34m\u001b[1mtrain: \u001b[0mWARNING  D:\\hackathon\\Webpage elements\\train\\images\\fr_wikipedia_org_png.rf.3c36972b63dc4e4eae534f711e8f9ebe.jpg: 1 duplicate labels removed\n",
      "\u001b[34m\u001b[1mtrain: \u001b[0mWARNING  D:\\hackathon\\Webpage elements\\train\\images\\fr_wikipedia_org_png.rf.kCt13D81szIFSkerpxJ1.jpg: 1 duplicate labels removed\n",
      "\u001b[34m\u001b[1mtrain: \u001b[0mWARNING  D:\\hackathon\\Webpage elements\\train\\images\\g1_globo_com_png.rf.1d723c2914344b60fe0eec02923c67ba.jpg: 1631 duplicate labels removed\n",
      "\u001b[34m\u001b[1mtrain: \u001b[0mWARNING  D:\\hackathon\\Webpage elements\\train\\images\\g1_globo_com_png.rf.5v1XvJCDQSy1Fp5WoKRl.jpg: 1631 duplicate labels removed\n",
      "\u001b[34m\u001b[1mtrain: \u001b[0mWARNING  D:\\hackathon\\Webpage elements\\train\\images\\gofundme_com_png.rf.Agbdcq6ScuRbMJkMVSO6.jpg: 1 duplicate labels removed\n",
      "\u001b[34m\u001b[1mtrain: \u001b[0mWARNING  D:\\hackathon\\Webpage elements\\train\\images\\gofundme_com_png.rf.cfdf132ae247188180a0733d7d3bdff1.jpg: 1 duplicate labels removed\n",
      "\u001b[34m\u001b[1mtrain: \u001b[0mWARNING  D:\\hackathon\\Webpage elements\\train\\images\\gq_com_png.rf.de5b9b8f5e7569f84badb12674ce1f4b.jpg: 1 duplicate labels removed\n",
      "\u001b[34m\u001b[1mtrain: \u001b[0mWARNING  D:\\hackathon\\Webpage elements\\train\\images\\gq_com_png.rf.zneyfYKbTSyaNjMBLzVy.jpg: 1 duplicate labels removed\n",
      "\u001b[34m\u001b[1mtrain: \u001b[0mWARNING  D:\\hackathon\\Webpage elements\\train\\images\\greenpeace_org_png.rf.858d0eaa2ceb8491ae81d4ed183ec0b7.jpg: 1 duplicate labels removed\n",
      "\u001b[34m\u001b[1mtrain: \u001b[0mWARNING  D:\\hackathon\\Webpage elements\\train\\images\\greenpeace_org_png.rf.D8AUtAlL9PUf1Hejrttb.jpg: 1 duplicate labels removed\n",
      "\u001b[34m\u001b[1mtrain: \u001b[0mWARNING  D:\\hackathon\\Webpage elements\\train\\images\\guardian_co_uk_png.rf.320aeb69f1550df57fed6e57db8e19c8.jpg: 3 duplicate labels removed\n",
      "\u001b[34m\u001b[1mtrain: \u001b[0mWARNING  D:\\hackathon\\Webpage elements\\train\\images\\guardian_co_uk_png.rf.kEuH01SKDcVppRlzkJjP.jpg: 3 duplicate labels removed\n",
      "\u001b[34m\u001b[1mtrain: \u001b[0mWARNING  D:\\hackathon\\Webpage elements\\train\\images\\hangouts_google_com_png.rf.911d9391b4f4d7652b355194d3d587e1.jpg: 1 duplicate labels removed\n",
      "\u001b[34m\u001b[1mtrain: \u001b[0mWARNING  D:\\hackathon\\Webpage elements\\train\\images\\hangouts_google_com_png.rf.NqNRTckTRCcFkUl5HpIa.jpg: 1 duplicate labels removed\n",
      "\u001b[34m\u001b[1mtrain: \u001b[0mWARNING  D:\\hackathon\\Webpage elements\\train\\images\\houzz_com_png.rf.2fXXaSeJJ7RE9CwAF7aT.jpg: 3 duplicate labels removed\n",
      "\u001b[34m\u001b[1mtrain: \u001b[0mWARNING  D:\\hackathon\\Webpage elements\\train\\images\\houzz_com_png.rf.429020faf9cb661c5684559c37f1ef58.jpg: 3 duplicate labels removed\n",
      "\u001b[34m\u001b[1mtrain: \u001b[0mWARNING  D:\\hackathon\\Webpage elements\\train\\images\\icloud_com_png.rf.513612cac20fb5e028b9a049c8fc1d13.jpg: 1 duplicate labels removed\n",
      "\u001b[34m\u001b[1mtrain: \u001b[0mWARNING  D:\\hackathon\\Webpage elements\\train\\images\\icloud_com_png.rf.q0VG4B8Jh0plIUFXaNj7.jpg: 1 duplicate labels removed\n",
      "\u001b[34m\u001b[1mtrain: \u001b[0mWARNING  D:\\hackathon\\Webpage elements\\train\\images\\iso_org_png.rf.cdf563fbf00b222df9f6fb03c2ddb5e1.jpg: 4 duplicate labels removed\n",
      "\u001b[34m\u001b[1mtrain: \u001b[0mWARNING  D:\\hackathon\\Webpage elements\\train\\images\\iso_org_png.rf.o9pFFykSkligEAEHA5Vz.jpg: 4 duplicate labels removed\n",
      "\u001b[34m\u001b[1mtrain: \u001b[0mWARNING  D:\\hackathon\\Webpage elements\\train\\images\\issuu_com_png.rf.78e3430ec57bf1f0627db6fb3193af0f.jpg: 1 duplicate labels removed\n",
      "\u001b[34m\u001b[1mtrain: \u001b[0mWARNING  D:\\hackathon\\Webpage elements\\train\\images\\issuu_com_png.rf.GVjCQvxYK0IglRf7WRR9.jpg: 1 duplicate labels removed\n",
      "\u001b[34m\u001b[1mtrain: \u001b[0mWARNING  D:\\hackathon\\Webpage elements\\train\\images\\jsfiddle_net_png.rf.9PlFQOGf84PXgxHKV8X5.jpg: 1 duplicate labels removed\n",
      "\u001b[34m\u001b[1mtrain: \u001b[0mWARNING  D:\\hackathon\\Webpage elements\\train\\images\\jsfiddle_net_png.rf.c7f00817564a1b5c01463f60589fa84b.jpg: 1 duplicate labels removed\n",
      "\u001b[34m\u001b[1mtrain: \u001b[0mWARNING  D:\\hackathon\\Webpage elements\\train\\images\\justgiving_com_png.rf.4f580765c189df4184e7c93e02a62639.jpg: 1 duplicate labels removed\n",
      "\u001b[34m\u001b[1mtrain: \u001b[0mWARNING  D:\\hackathon\\Webpage elements\\train\\images\\justgiving_com_png.rf.Tc1HnNk09EpGHAz3ltDI.jpg: 1 duplicate labels removed\n",
      "\u001b[34m\u001b[1mtrain: \u001b[0mWARNING  D:\\hackathon\\Webpage elements\\train\\images\\madmimi_com_png.rf.0592a05a5168a0d2dcebbe49a120610e.jpg: 1 duplicate labels removed\n",
      "\u001b[34m\u001b[1mtrain: \u001b[0mWARNING  D:\\hackathon\\Webpage elements\\train\\images\\madmimi_com_png.rf.TQgAOu4lpzxODWbAFuVZ.jpg: 1 duplicate labels removed\n",
      "\u001b[34m\u001b[1mtrain: \u001b[0mWARNING  D:\\hackathon\\Webpage elements\\train\\images\\mercadopago_com_png.rf.FZYnBRniyXvobomWNTcA.jpg: 1 duplicate labels removed\n",
      "\u001b[34m\u001b[1mtrain: \u001b[0mWARNING  D:\\hackathon\\Webpage elements\\train\\images\\mercadopago_com_png.rf.b3747c52d96941088359b4d9a36fa6b6.jpg: 1 duplicate labels removed\n",
      "\u001b[34m\u001b[1mtrain: \u001b[0mWARNING  D:\\hackathon\\Webpage elements\\train\\images\\meta_wikimedia_org_png.rf.72c6360670aa247e7e5b049ddda5a742.jpg: 1 duplicate labels removed\n",
      "\u001b[34m\u001b[1mtrain: \u001b[0mWARNING  D:\\hackathon\\Webpage elements\\train\\images\\meta_wikimedia_org_png.rf.AQ8kFYvYNY0Hd1jO5V9E.jpg: 1 duplicate labels removed\n",
      "\u001b[34m\u001b[1mtrain: \u001b[0mWARNING  D:\\hackathon\\Webpage elements\\train\\images\\mix_com_png.rf.7f4b276ab8eb840773dabdeaa18d6096.jpg: 4 duplicate labels removed\n",
      "\u001b[34m\u001b[1mtrain: \u001b[0mWARNING  D:\\hackathon\\Webpage elements\\train\\images\\mix_com_png.rf.JPnY2Mjhn1OCjK62TmzP.jpg: 4 duplicate labels removed\n",
      "\u001b[34m\u001b[1mtrain: \u001b[0mWARNING  D:\\hackathon\\Webpage elements\\train\\images\\nbc_com_png.rf.aa5192301441d317912c9765f008935f.jpg: 5 duplicate labels removed\n",
      "\u001b[34m\u001b[1mtrain: \u001b[0mWARNING  D:\\hackathon\\Webpage elements\\train\\images\\nbc_com_png.rf.qQpJKzZivgHbr7wM7PXn.jpg: 5 duplicate labels removed\n",
      "\u001b[34m\u001b[1mtrain: \u001b[0mWARNING  D:\\hackathon\\Webpage elements\\train\\images\\nbcnews_com_png.rf.b2f294b753be0cbf84a29c3ec6ae1fa6.jpg: 3 duplicate labels removed\n",
      "\u001b[34m\u001b[1mtrain: \u001b[0mWARNING  D:\\hackathon\\Webpage elements\\train\\images\\nbcnews_com_png.rf.ysmKALvAg1ZCDaj93Nue.jpg: 3 duplicate labels removed\n",
      "\u001b[34m\u001b[1mtrain: \u001b[0mWARNING  D:\\hackathon\\Webpage elements\\train\\images\\ncbi_nlm_nih_gov_png.rf.ca1355adfe2fdf7a4f23ed21be213f62.jpg: 5 duplicate labels removed\n",
      "\u001b[34m\u001b[1mtrain: \u001b[0mWARNING  D:\\hackathon\\Webpage elements\\train\\images\\ncbi_nlm_nih_gov_png.rf.e3bh1oTENMTcounrIk81.jpg: 5 duplicate labels removed\n",
      "\u001b[34m\u001b[1mtrain: \u001b[0mWARNING  D:\\hackathon\\Webpage elements\\train\\images\\netflix_com_png.rf.ed1585eff8e959e8124cc16a6bca03ca.jpg: 1 duplicate labels removed\n",
      "\u001b[34m\u001b[1mtrain: \u001b[0mWARNING  D:\\hackathon\\Webpage elements\\train\\images\\netflix_com_png.rf.u7OdA2kst1KLQwhW9w8u.jpg: 1 duplicate labels removed\n",
      "\u001b[34m\u001b[1mtrain: \u001b[0mWARNING  D:\\hackathon\\Webpage elements\\train\\images\\news_nationalgeographic_com_png.rf.f944a3eaded65a9a4f582d2d851310e2.jpg: 1 duplicate labels removed\n",
      "\u001b[34m\u001b[1mtrain: \u001b[0mWARNING  D:\\hackathon\\Webpage elements\\train\\images\\news_nationalgeographic_com_png.rf.wXLKWyO7nPmkqKIhOpGO.jpg: 1 duplicate labels removed\n",
      "\u001b[34m\u001b[1mtrain: \u001b[0mWARNING  D:\\hackathon\\Webpage elements\\train\\images\\news_yahoo_com_png.rf.128e6475d469b4da335d6c435ce2a8e2.jpg: 2 duplicate labels removed\n",
      "\u001b[34m\u001b[1mtrain: \u001b[0mWARNING  D:\\hackathon\\Webpage elements\\train\\images\\news_yahoo_com_png.rf.cpTzosgaaMut9BwhZ6qH.jpg: 2 duplicate labels removed\n",
      "\u001b[34m\u001b[1mtrain: \u001b[0mWARNING  D:\\hackathon\\Webpage elements\\train\\images\\nicovideo_jp_png.rf.6bgKpcGcMUEZYrXOSPQs.jpg: 1 duplicate labels removed\n",
      "\u001b[34m\u001b[1mtrain: \u001b[0mWARNING  D:\\hackathon\\Webpage elements\\train\\images\\nicovideo_jp_png.rf.74b85347e9d01db6c6143c9047f9825f.jpg: 1 duplicate labels removed\n",
      "\u001b[34m\u001b[1mtrain: \u001b[0mWARNING  D:\\hackathon\\Webpage elements\\train\\images\\nofilmschool_com_png.rf.0aa5503cba2d980bd5ada83ead26122c.jpg: 1 duplicate labels removed\n",
      "\u001b[34m\u001b[1mtrain: \u001b[0mWARNING  D:\\hackathon\\Webpage elements\\train\\images\\nofilmschool_com_png.rf.mPlFsxRAPhOYZvXGWFXS.jpg: 1 duplicate labels removed\n",
      "\u001b[34m\u001b[1mtrain: \u001b[0mWARNING  D:\\hackathon\\Webpage elements\\train\\images\\nytimes_com_png.rf.225b1155244e5a8b4c7a591ee9256e6c.jpg: 3 duplicate labels removed\n",
      "\u001b[34m\u001b[1mtrain: \u001b[0mWARNING  D:\\hackathon\\Webpage elements\\train\\images\\nytimes_com_png.rf.RWtJHvns7ReiAIAxGSf4.jpg: 3 duplicate labels removed\n",
      "\u001b[34m\u001b[1mtrain: \u001b[0mWARNING  D:\\hackathon\\Webpage elements\\train\\images\\openoffice_org_png.rf.84f945023016afd2a0b6ff8120e6a8f8.jpg: 1 duplicate labels removed\n",
      "\u001b[34m\u001b[1mtrain: \u001b[0mWARNING  D:\\hackathon\\Webpage elements\\train\\images\\openoffice_org_png.rf.ZTS48uW2DzFtEcDNy3SR.jpg: 1 duplicate labels removed\n",
      "\u001b[34m\u001b[1mtrain: \u001b[0mWARNING  D:\\hackathon\\Webpage elements\\train\\images\\paypal_com_png.rf.ZhF1V4hvl94tVppemKL3.jpg: 1 duplicate labels removed\n",
      "\u001b[34m\u001b[1mtrain: \u001b[0mWARNING  D:\\hackathon\\Webpage elements\\train\\images\\paypal_com_png.rf.ba26660176d32c3ecf51f92c6e2beb14.jpg: 1 duplicate labels removed\n",
      "\u001b[34m\u001b[1mtrain: \u001b[0mWARNING  D:\\hackathon\\Webpage elements\\train\\images\\pitchfork_com_png.rf.728f8c5b02a65c321eba2baa1bd0fbe6.jpg: 1 duplicate labels removed\n",
      "\u001b[34m\u001b[1mtrain: \u001b[0mWARNING  D:\\hackathon\\Webpage elements\\train\\images\\pitchfork_com_png.rf.nXC7Le8Z2QnUfBssa37m.jpg: 1 duplicate labels removed\n",
      "\u001b[34m\u001b[1mtrain: \u001b[0mWARNING  D:\\hackathon\\Webpage elements\\train\\images\\promods_net_png.rf.2acadb7d748a0055eab5af27f8a07463.jpg: 3 duplicate labels removed\n",
      "\u001b[34m\u001b[1mtrain: \u001b[0mWARNING  D:\\hackathon\\Webpage elements\\train\\images\\promods_net_png.rf.W7R9zipjdYaCqfpTOY42.jpg: 3 duplicate labels removed\n",
      "\u001b[34m\u001b[1mtrain: \u001b[0mWARNING  D:\\hackathon\\Webpage elements\\train\\images\\pt_wikipedia_org_png.rf.Cmn1eKl8dIpy70PxaETr.jpg: 1 duplicate labels removed\n",
      "\u001b[34m\u001b[1mtrain: \u001b[0mWARNING  D:\\hackathon\\Webpage elements\\train\\images\\pt_wikipedia_org_png.rf.a50af45eb22466772e4c09de8975585b.jpg: 1 duplicate labels removed\n",
      "\u001b[34m\u001b[1mtrain: \u001b[0mWARNING  D:\\hackathon\\Webpage elements\\train\\images\\rt_com_png.rf.413145597ae5529ee522641c6133041b.jpg: 8 duplicate labels removed\n",
      "\u001b[34m\u001b[1mtrain: \u001b[0mWARNING  D:\\hackathon\\Webpage elements\\train\\images\\rt_com_png.rf.ljgzxUaOdUeWNWoIPxlz.jpg: 8 duplicate labels removed\n",
      "\u001b[34m\u001b[1mtrain: \u001b[0mWARNING  D:\\hackathon\\Webpage elements\\train\\images\\ru_wikipedia_org_png.rf.NDdaiW7fBAWCKJoAENpu.jpg: 1 duplicate labels removed\n",
      "\u001b[34m\u001b[1mtrain: \u001b[0mWARNING  D:\\hackathon\\Webpage elements\\train\\images\\ru_wikipedia_org_png.rf.edd74bcf0293c967479c63d9fc49de5d.jpg: 1 duplicate labels removed\n",
      "\u001b[34m\u001b[1mtrain: \u001b[0mWARNING  D:\\hackathon\\Webpage elements\\train\\images\\s0_wp_com_png.rf.C6O9UHHYGpCKN1O54Rri.jpg: 20 duplicate labels removed\n",
      "\u001b[34m\u001b[1mtrain: \u001b[0mWARNING  D:\\hackathon\\Webpage elements\\train\\images\\s0_wp_com_png.rf.cb519338a979dce3b57cb59ef4f69e15.jpg: 20 duplicate labels removed\n",
      "\u001b[34m\u001b[1mtrain: \u001b[0mWARNING  D:\\hackathon\\Webpage elements\\train\\images\\scientificamerican_com_png.rf.3KMszb49XWREZ8EVqina.jpg: 1 duplicate labels removed\n",
      "\u001b[34m\u001b[1mtrain: \u001b[0mWARNING  D:\\hackathon\\Webpage elements\\train\\images\\scientificamerican_com_png.rf.bd4aec02222e8b83412e065cbd01f27b.jpg: 1 duplicate labels removed\n",
      "\u001b[34m\u001b[1mtrain: \u001b[0mWARNING  D:\\hackathon\\Webpage elements\\train\\images\\scmp_com_png.rf.60021591cb4ed44ba2ef3b7b1e41ecc1.jpg: 2 duplicate labels removed\n",
      "\u001b[34m\u001b[1mtrain: \u001b[0mWARNING  D:\\hackathon\\Webpage elements\\train\\images\\scmp_com_png.rf.sHlD9qo5252iyvUPy4tp.jpg: 2 duplicate labels removed\n",
      "\u001b[34m\u001b[1mtrain: \u001b[0mWARNING  D:\\hackathon\\Webpage elements\\train\\images\\secure_php_net_png.rf.1c5f136fc3e7bf798454bdc0a69126e6.jpg: 1 duplicate labels removed\n",
      "\u001b[34m\u001b[1mtrain: \u001b[0mWARNING  D:\\hackathon\\Webpage elements\\train\\images\\secure_php_net_png.rf.LKLFelSOGEvsoiwxGc3K.jpg: 1 duplicate labels removed\n",
      "\u001b[34m\u001b[1mtrain: \u001b[0mWARNING  D:\\hackathon\\Webpage elements\\train\\images\\simple_wikipedia_org_png.rf.a7a69804f6650a383b814c0e3294e8fd.jpg: 1 duplicate labels removed\n",
      "\u001b[34m\u001b[1mtrain: \u001b[0mWARNING  D:\\hackathon\\Webpage elements\\train\\images\\simple_wikipedia_org_png.rf.hExGypFpDgmJchlerE9k.jpg: 1 duplicate labels removed\n",
      "\u001b[34m\u001b[1mtrain: \u001b[0mWARNING  D:\\hackathon\\Webpage elements\\train\\images\\surveymonkey_com_png.rf.a5bbf15f247f9e5d5138d55ca5b6dbe7.jpg: 1 duplicate labels removed\n",
      "\u001b[34m\u001b[1mtrain: \u001b[0mWARNING  D:\\hackathon\\Webpage elements\\train\\images\\surveymonkey_com_png.rf.ge82c2Yugw1f8uMRjFYg.jpg: 1 duplicate labels removed\n",
      "\u001b[34m\u001b[1mtrain: \u001b[0mWARNING  D:\\hackathon\\Webpage elements\\train\\images\\sustainabledevelopment_un_org_png.rf.19d3c692f7f829bb14312338a50e062f.jpg: 11 duplicate labels removed\n",
      "\u001b[34m\u001b[1mtrain: \u001b[0mWARNING  D:\\hackathon\\Webpage elements\\train\\images\\sustainabledevelopment_un_org_png.rf.mil9gtph1KwATF4TxKop.jpg: 11 duplicate labels removed\n",
      "\u001b[34m\u001b[1mtrain: \u001b[0mWARNING  D:\\hackathon\\Webpage elements\\train\\images\\theculturetrip_com_png.rf.VBDdCooT4IheXOEiSHUd.jpg: 5 duplicate labels removed\n",
      "\u001b[34m\u001b[1mtrain: \u001b[0mWARNING  D:\\hackathon\\Webpage elements\\train\\images\\theculturetrip_com_png.rf.ed8e7903b2bf80058c6b0c7305dca0d4.jpg: 5 duplicate labels removed\n",
      "\u001b[34m\u001b[1mtrain: \u001b[0mWARNING  D:\\hackathon\\Webpage elements\\train\\images\\theguardian_com_png.rf.30dac2e6927bd17bac113010d4b70264.jpg: 3 duplicate labels removed\n",
      "\u001b[34m\u001b[1mtrain: \u001b[0mWARNING  D:\\hackathon\\Webpage elements\\train\\images\\theguardian_com_png.rf.naTFwpP1b4QS3ciusIxX.jpg: 3 duplicate labels removed\n",
      "\u001b[34m\u001b[1mtrain: \u001b[0mWARNING  D:\\hackathon\\Webpage elements\\train\\images\\theknot_com_png.rf.409uM9octh6x3hlik7vg.jpg: 1 duplicate labels removed\n",
      "\u001b[34m\u001b[1mtrain: \u001b[0mWARNING  D:\\hackathon\\Webpage elements\\train\\images\\theknot_com_png.rf.c906b27acb280fab14dedab20969b6ed.jpg: 1 duplicate labels removed\n",
      "\u001b[34m\u001b[1mtrain: \u001b[0mWARNING  D:\\hackathon\\Webpage elements\\train\\images\\thenextweb_com_png.rf.6de4d9e4a97decd6c3aa26f8eb7b3a5a.jpg: 4 duplicate labels removed\n",
      "\u001b[34m\u001b[1mtrain: \u001b[0mWARNING  D:\\hackathon\\Webpage elements\\train\\images\\thenextweb_com_png.rf.cCuRzm3pHCbbzv0Iw7B5.jpg: 4 duplicate labels removed\n",
      "\u001b[34m\u001b[1mtrain: \u001b[0mWARNING  D:\\hackathon\\Webpage elements\\train\\images\\today_com_png.rf.d70ddbf09f7288d8f4dee04d5f1b6634.jpg: 4 duplicate labels removed\n",
      "\u001b[34m\u001b[1mtrain: \u001b[0mWARNING  D:\\hackathon\\Webpage elements\\train\\images\\today_com_png.rf.rAsb55CYjR1Euo6Y8gJW.jpg: 4 duplicate labels removed\n",
      "\u001b[34m\u001b[1mtrain: \u001b[0mWARNING  D:\\hackathon\\Webpage elements\\train\\images\\travel_state_gov_png.rf.FpqBzGY2dVFzo34SPRSV.jpg: 6 duplicate labels removed\n",
      "\u001b[34m\u001b[1mtrain: \u001b[0mWARNING  D:\\hackathon\\Webpage elements\\train\\images\\travel_state_gov_png.rf.a4451edcac05aa865829c9c3238a481a.jpg: 6 duplicate labels removed\n",
      "\u001b[34m\u001b[1mtrain: \u001b[0mWARNING  D:\\hackathon\\Webpage elements\\train\\images\\unesco_org_png.rf.efa9f5062fc5c0241c6d4f673fcc8e46.jpg: 3 duplicate labels removed\n",
      "\u001b[34m\u001b[1mtrain: \u001b[0mWARNING  D:\\hackathon\\Webpage elements\\train\\images\\unesco_org_png.rf.uc5Sr42VOSh0JldRvV8r.jpg: 3 duplicate labels removed\n",
      "\u001b[34m\u001b[1mtrain: \u001b[0mWARNING  D:\\hackathon\\Webpage elements\\train\\images\\upload_wikimedia_org_png.rf.05d253cfdc435d8bbe672a5a9165bc02.jpg: 1 duplicate labels removed\n",
      "\u001b[34m\u001b[1mtrain: \u001b[0mWARNING  D:\\hackathon\\Webpage elements\\train\\images\\upload_wikimedia_org_png.rf.3muXrl881ybGplVMlwUd.jpg: 1 duplicate labels removed\n",
      "\u001b[34m\u001b[1mtrain: \u001b[0mWARNING  D:\\hackathon\\Webpage elements\\train\\images\\vedomosti_ru_png.rf.93d5d3fefbd9d1deae9b1a8139beba18.jpg: 1 duplicate labels removed\n",
      "\u001b[34m\u001b[1mtrain: \u001b[0mWARNING  D:\\hackathon\\Webpage elements\\train\\images\\vedomosti_ru_png.rf.ONO6UdEFXye9CHh5nxB6.jpg: 1 duplicate labels removed\n",
      "\u001b[34m\u001b[1mtrain: \u001b[0mWARNING  D:\\hackathon\\Webpage elements\\train\\images\\vice_com_png.rf.0693fd25067f8e4284533aeadc65e4be.jpg: 1 duplicate labels removed\n",
      "\u001b[34m\u001b[1mtrain: \u001b[0mWARNING  D:\\hackathon\\Webpage elements\\train\\images\\vice_com_png.rf.iQMetWzla4tnMRos7WLQ.jpg: 1 duplicate labels removed\n",
      "\u001b[34m\u001b[1mtrain: \u001b[0mWARNING  D:\\hackathon\\Webpage elements\\train\\images\\wp_me_png.rf.661df1bd978e193a2b10638b44d4569b.jpg: 20 duplicate labels removed\n",
      "\u001b[34m\u001b[1mtrain: \u001b[0mWARNING  D:\\hackathon\\Webpage elements\\train\\images\\wp_me_png.rf.LqkDDYOLwmlbQw9yS5HJ.jpg: 20 duplicate labels removed\n",
      "\u001b[34m\u001b[1mtrain: \u001b[0mWARNING  D:\\hackathon\\Webpage elements\\train\\images\\www3_nhk_or_jp_png.rf.0a0dfb066fd649f2ffc6eb41db02100f.jpg: 1 duplicate labels removed\n",
      "\u001b[34m\u001b[1mtrain: \u001b[0mWARNING  D:\\hackathon\\Webpage elements\\train\\images\\www3_nhk_or_jp_png.rf.ACWRklTLUHhY9SlyTW3T.jpg: 1 duplicate labels removed\n",
      "\u001b[34m\u001b[1mtrain: \u001b[0mWARNING  D:\\hackathon\\Webpage elements\\train\\images\\yelp_com_png.rf.3bb4ec6278a90820dbd1caf9b2b20d81.jpg: 1 duplicate labels removed\n",
      "\u001b[34m\u001b[1mtrain: \u001b[0mWARNING  D:\\hackathon\\Webpage elements\\train\\images\\yelp_com_png.rf.QWINNL01Hj8TZcLOlU63.jpg: 1 duplicate labels removed\n",
      "\u001b[34m\u001b[1mtrain: \u001b[0mWARNING  D:\\hackathon\\Webpage elements\\train\\images\\yr_no_png.rf.3a0074ef6784e15adfbb193e4fac8a4c.jpg: 3 duplicate labels removed\n",
      "\u001b[34m\u001b[1mtrain: \u001b[0mWARNING  D:\\hackathon\\Webpage elements\\train\\images\\yr_no_png.rf.QxqF25xDbB27GFuUfrOV.jpg: 3 duplicate labels removed\n",
      "\u001b[34m\u001b[1mtrain: \u001b[0mWARNING  D:\\hackathon\\Webpage elements\\train\\images\\zen_yandex_ru_png.rf.UclkrxqBOvBczz8P4r0w.jpg: 6 duplicate labels removed\n",
      "\u001b[34m\u001b[1mtrain: \u001b[0mWARNING  D:\\hackathon\\Webpage elements\\train\\images\\zen_yandex_ru_png.rf.a9044180dbe17f40ca43c8968417a8db.jpg: 6 duplicate labels removed\n"
     ]
    },
    {
     "name": "stderr",
     "output_type": "stream",
     "text": [
      "\n",
      "\u001b[34m\u001b[1mval: \u001b[0mScanning D:\\hackathon\\Webpage elements\\valid\\labels.cache... 482 images, 0 backgrounds, 0 corrupt: 100%|██████████\u001b[0m"
     ]
    },
    {
     "name": "stdout",
     "output_type": "stream",
     "text": [
      "\u001b[34m\u001b[1mval: \u001b[0mWARNING  D:\\hackathon\\Webpage elements\\valid\\images\\bandsintown_com_png.rf.I19VlDFncZ0RifJhmfEU.jpg: 4 duplicate labels removed\n",
      "\u001b[34m\u001b[1mval: \u001b[0mWARNING  D:\\hackathon\\Webpage elements\\valid\\images\\bandsintown_com_png.rf.b8462344187a5cdffe24d70019fabd0a.jpg: 4 duplicate labels removed\n",
      "\u001b[34m\u001b[1mval: \u001b[0mWARNING  D:\\hackathon\\Webpage elements\\valid\\images\\deondernemer_nl_png.rf.c00a7c65fab4356b887dea5c9e96e8f3.jpg: 1 duplicate labels removed\n",
      "\u001b[34m\u001b[1mval: \u001b[0mWARNING  D:\\hackathon\\Webpage elements\\valid\\images\\deondernemer_nl_png.rf.mVLu7hIaZ8VUCwbhSF6c.jpg: 1 duplicate labels removed\n",
      "\u001b[34m\u001b[1mval: \u001b[0mWARNING  D:\\hackathon\\Webpage elements\\valid\\images\\flickr_com_png.rf.27963e0183770e78d58a8b78dc41715e.jpg: 2 duplicate labels removed\n",
      "\u001b[34m\u001b[1mval: \u001b[0mWARNING  D:\\hackathon\\Webpage elements\\valid\\images\\flickr_com_png.rf.IKOHXY9vM9t5eOz75BGX.jpg: 2 duplicate labels removed\n",
      "\u001b[34m\u001b[1mval: \u001b[0mWARNING  D:\\hackathon\\Webpage elements\\valid\\images\\foxnews_com_png.rf.10605c226e8ff71fd5510b806e5584b5.jpg: 2 duplicate labels removed\n",
      "\u001b[34m\u001b[1mval: \u001b[0mWARNING  D:\\hackathon\\Webpage elements\\valid\\images\\foxnews_com_png.rf.ZBdjtZh9ZKXU8Tv9oXmU.jpg: 2 duplicate labels removed\n",
      "\u001b[34m\u001b[1mval: \u001b[0mWARNING  D:\\hackathon\\Webpage elements\\valid\\images\\g2a_com_png.rf.EbmoOwo5NNYQBjhn0faC.jpg: 2 duplicate labels removed\n",
      "\u001b[34m\u001b[1mval: \u001b[0mWARNING  D:\\hackathon\\Webpage elements\\valid\\images\\g2a_com_png.rf.a75153af048d1ae479370299f0793ad7.jpg: 2 duplicate labels removed\n",
      "\u001b[34m\u001b[1mval: \u001b[0mWARNING  D:\\hackathon\\Webpage elements\\valid\\images\\homedepot_com_png.rf.92f61b7de130caa809ae7c72e2c2b8e9.jpg: 1 duplicate labels removed\n",
      "\u001b[34m\u001b[1mval: \u001b[0mWARNING  D:\\hackathon\\Webpage elements\\valid\\images\\homedepot_com_png.rf.Hw7c2qFsLbBDBJNlmK8M.jpg: 1 duplicate labels removed\n",
      "\u001b[34m\u001b[1mval: \u001b[0mWARNING  D:\\hackathon\\Webpage elements\\valid\\images\\imdb_com_png.rf.384ada82ca50f70ec2bbfd05287c6ec2.jpg: 4 duplicate labels removed\n",
      "\u001b[34m\u001b[1mval: \u001b[0mWARNING  D:\\hackathon\\Webpage elements\\valid\\images\\imdb_com_png.rf.Kk1nafZlPAvSmqvvd8Ys.jpg: 4 duplicate labels removed\n",
      "\u001b[34m\u001b[1mval: \u001b[0mWARNING  D:\\hackathon\\Webpage elements\\valid\\images\\ja_wikipedia_org_png.rf.91887dc6ebaf6561b1d2fb9a23a19418.jpg: 1 duplicate labels removed\n",
      "\u001b[34m\u001b[1mval: \u001b[0mWARNING  D:\\hackathon\\Webpage elements\\valid\\images\\ja_wikipedia_org_png.rf.cXJxbTNq8UTc4s2B8Sjs.jpg: 1 duplicate labels removed\n",
      "\u001b[34m\u001b[1mval: \u001b[0mWARNING  D:\\hackathon\\Webpage elements\\valid\\images\\kritzelpixel_de_png.rf.OcxcOe4LBZ3M50b6v1QT.jpg: 2 duplicate labels removed\n",
      "\u001b[34m\u001b[1mval: \u001b[0mWARNING  D:\\hackathon\\Webpage elements\\valid\\images\\kritzelpixel_de_png.rf.bac0201db6233a086b6ae0f5d185b36d.jpg: 2 duplicate labels removed\n",
      "\u001b[34m\u001b[1mval: \u001b[0mWARNING  D:\\hackathon\\Webpage elements\\valid\\images\\lucene_apache_org_png.rf.2dx59y0HWRGHXBhSQrNA.jpg: 2 duplicate labels removed\n",
      "\u001b[34m\u001b[1mval: \u001b[0mWARNING  D:\\hackathon\\Webpage elements\\valid\\images\\lucene_apache_org_png.rf.2ebbfb7198e5851d0066519c538f9c40.jpg: 2 duplicate labels removed\n",
      "\u001b[34m\u001b[1mval: \u001b[0mWARNING  D:\\hackathon\\Webpage elements\\valid\\images\\news_bbc_co_uk_png.rf.Ez1yMuGZ3lhZYXOO2uTZ.jpg: 1 duplicate labels removed\n",
      "\u001b[34m\u001b[1mval: \u001b[0mWARNING  D:\\hackathon\\Webpage elements\\valid\\images\\news_bbc_co_uk_png.rf.c1e913ff0e1523cb29398e3db270bbfe.jpg: 1 duplicate labels removed\n",
      "\u001b[34m\u001b[1mval: \u001b[0mWARNING  D:\\hackathon\\Webpage elements\\valid\\images\\periscope_tv_png.rf.e76c0f7a4ecf927e2bf57226d2768dd9.jpg: 4 duplicate labels removed\n",
      "\u001b[34m\u001b[1mval: \u001b[0mWARNING  D:\\hackathon\\Webpage elements\\valid\\images\\periscope_tv_png.rf.or2seiJBYaxeD2Qnyz3k.jpg: 4 duplicate labels removed\n",
      "\u001b[34m\u001b[1mval: \u001b[0mWARNING  D:\\hackathon\\Webpage elements\\valid\\images\\rp-online_de_png.rf.EMTBAq2QgcqYyt0bJbPo.jpg: 1 duplicate labels removed\n",
      "\u001b[34m\u001b[1mval: \u001b[0mWARNING  D:\\hackathon\\Webpage elements\\valid\\images\\rp-online_de_png.rf.f10e38e03b853df2776cba133450b419.jpg: 1 duplicate labels removed\n",
      "\u001b[34m\u001b[1mval: \u001b[0mWARNING  D:\\hackathon\\Webpage elements\\valid\\images\\shop_trezor_io_png.rf.4e611899f49261af796dca5f3355b299.jpg: 2 duplicate labels removed\n",
      "\u001b[34m\u001b[1mval: \u001b[0mWARNING  D:\\hackathon\\Webpage elements\\valid\\images\\shop_trezor_io_png.rf.WIqKIWcD1DSkob8zEsUs.jpg: 2 duplicate labels removed\n",
      "\u001b[34m\u001b[1mval: \u001b[0mWARNING  D:\\hackathon\\Webpage elements\\valid\\images\\sublimetext_com_png.rf.0f8cb2ec48b25ac029e73c17094401bd.jpg: 1 duplicate labels removed\n",
      "\u001b[34m\u001b[1mval: \u001b[0mWARNING  D:\\hackathon\\Webpage elements\\valid\\images\\sublimetext_com_png.rf.76t0UB1NyW7xBmuSA8w7.jpg: 1 duplicate labels removed\n",
      "\u001b[34m\u001b[1mval: \u001b[0mWARNING  D:\\hackathon\\Webpage elements\\valid\\images\\unsplash_com_png.rf.154d76b2584de6ca9dc89d17c08b00d5.jpg: 1 duplicate labels removed\n",
      "\u001b[34m\u001b[1mval: \u001b[0mWARNING  D:\\hackathon\\Webpage elements\\valid\\images\\unsplash_com_png.rf.FiR3VaaTXdjE3lOwOzuG.jpg: 1 duplicate labels removed\n",
      "\u001b[34m\u001b[1mval: \u001b[0mWARNING  D:\\hackathon\\Webpage elements\\valid\\images\\waze_com_png.rf.3yKW2PGaCQVfJIZDW1yU.jpg: 1 duplicate labels removed\n",
      "\u001b[34m\u001b[1mval: \u001b[0mWARNING  D:\\hackathon\\Webpage elements\\valid\\images\\waze_com_png.rf.bf72e19f025564c7b5c3b15bb4a466c2.jpg: 1 duplicate labels removed\n",
      "\u001b[34m\u001b[1mval: \u001b[0mWARNING  D:\\hackathon\\Webpage elements\\valid\\images\\yummly_com_png.rf.e1835422de5b620977db478924da83ac.jpg: 1 duplicate labels removed\n",
      "\u001b[34m\u001b[1mval: \u001b[0mWARNING  D:\\hackathon\\Webpage elements\\valid\\images\\yummly_com_png.rf.kBGHE86CqX9A3I2c1KJE.jpg: 1 duplicate labels removed\n"
     ]
    },
    {
     "name": "stderr",
     "output_type": "stream",
     "text": [
      "\n"
     ]
    },
    {
     "name": "stdout",
     "output_type": "stream",
     "text": [
      "Plotting labels to runs\\detect\\webpage_elements_detection9\\labels.jpg... \n",
      "\u001b[34m\u001b[1moptimizer:\u001b[0m 'optimizer=auto' found, ignoring 'lr0=0.01' and 'momentum=0.937' and determining best 'optimizer', 'lr0' and 'momentum' automatically... \n",
      "\u001b[34m\u001b[1moptimizer:\u001b[0m AdamW(lr=0.000833, momentum=0.9) with parameter groups 69 weight(decay=0.0), 76 weight(decay=0.0005), 75 bias(decay=0.0)\n",
      "\u001b[34m\u001b[1mTensorBoard: \u001b[0mmodel graph visualization added \n",
      "Image sizes 640 train, 640 val\n",
      "Using 8 dataloader workers\n",
      "Logging results to \u001b[1mruns\\detect\\webpage_elements_detection9\u001b[0m\n",
      "Starting training for 30 epochs...\n",
      "\n",
      "      Epoch    GPU_mem   box_loss   cls_loss   dfl_loss  Instances       Size\n"
     ]
    },
    {
     "name": "stderr",
     "output_type": "stream",
     "text": [
      "       1/30      6.74G       1.87      2.506      1.451        566        640: 100%|██████████| 106/106 [02:40<00:00,  \n",
      "                 Class     Images  Instances      Box(P          R      mAP50  mAP50-95): 100%|██████████| 16/16 [00:24\n"
     ]
    },
    {
     "name": "stdout",
     "output_type": "stream",
     "text": [
      "                   all        482      20888      0.364      0.262      0.195      0.116\n",
      "\n",
      "      Epoch    GPU_mem   box_loss   cls_loss   dfl_loss  Instances       Size\n"
     ]
    },
    {
     "name": "stderr",
     "output_type": "stream",
     "text": [
      "       2/30      6.07G      1.564      1.924      1.309        469        640: 100%|██████████| 106/106 [02:59<00:00,  \n",
      "                 Class     Images  Instances      Box(P          R      mAP50  mAP50-95): 100%|██████████| 16/16 [00:56\n"
     ]
    },
    {
     "name": "stdout",
     "output_type": "stream",
     "text": [
      "                   all        482      20888      0.406      0.316      0.237      0.145\n",
      "\n",
      "      Epoch    GPU_mem   box_loss   cls_loss   dfl_loss  Instances       Size\n"
     ]
    },
    {
     "name": "stderr",
     "output_type": "stream",
     "text": [
      "       3/30      5.92G      1.502      1.849       1.27        575        640: 100%|██████████| 106/106 [02:20<00:00,  \n",
      "                 Class     Images  Instances      Box(P          R      mAP50  mAP50-95): 100%|██████████| 16/16 [00:20"
     ]
    },
    {
     "name": "stdout",
     "output_type": "stream",
     "text": [
      "                   all        482      20888      0.405      0.302      0.244      0.154\n"
     ]
    },
    {
     "name": "stderr",
     "output_type": "stream",
     "text": [
      "\n"
     ]
    },
    {
     "name": "stdout",
     "output_type": "stream",
     "text": [
      "\n",
      "      Epoch    GPU_mem   box_loss   cls_loss   dfl_loss  Instances       Size\n"
     ]
    },
    {
     "name": "stderr",
     "output_type": "stream",
     "text": [
      "       4/30      8.28G      1.462      1.795      1.253        567        640: 100%|██████████| 106/106 [02:38<00:00,  \n",
      "                 Class     Images  Instances      Box(P          R      mAP50  mAP50-95): 100%|██████████| 16/16 [00:23"
     ]
    },
    {
     "name": "stdout",
     "output_type": "stream",
     "text": [
      "                   all        482      20888      0.441      0.327       0.28      0.181\n"
     ]
    },
    {
     "name": "stderr",
     "output_type": "stream",
     "text": [
      "\n"
     ]
    },
    {
     "name": "stdout",
     "output_type": "stream",
     "text": [
      "\n",
      "      Epoch    GPU_mem   box_loss   cls_loss   dfl_loss  Instances       Size\n"
     ]
    },
    {
     "name": "stderr",
     "output_type": "stream",
     "text": [
      "       5/30      9.77G      1.418      1.748      1.238        649        640: 100%|██████████| 106/106 [02:55<00:00,  \n",
      "                 Class     Images  Instances      Box(P          R      mAP50  mAP50-95): 100%|██████████| 16/16 [00:24"
     ]
    },
    {
     "name": "stdout",
     "output_type": "stream",
     "text": [
      "                   all        482      20888      0.449      0.334      0.281      0.178\n"
     ]
    },
    {
     "name": "stderr",
     "output_type": "stream",
     "text": [
      "\n"
     ]
    },
    {
     "name": "stdout",
     "output_type": "stream",
     "text": [
      "\n",
      "      Epoch    GPU_mem   box_loss   cls_loss   dfl_loss  Instances       Size\n"
     ]
    },
    {
     "name": "stderr",
     "output_type": "stream",
     "text": [
      "       6/30      5.94G      1.388      1.711      1.221        595        640: 100%|██████████| 106/106 [02:16<00:00,  \n",
      "                 Class     Images  Instances      Box(P          R      mAP50  mAP50-95): 100%|██████████| 16/16 [00:19"
     ]
    },
    {
     "name": "stdout",
     "output_type": "stream",
     "text": [
      "                   all        482      20888      0.452      0.314      0.268      0.173\n"
     ]
    },
    {
     "name": "stderr",
     "output_type": "stream",
     "text": [
      "\n"
     ]
    },
    {
     "name": "stdout",
     "output_type": "stream",
     "text": [
      "\n",
      "      Epoch    GPU_mem   box_loss   cls_loss   dfl_loss  Instances       Size\n"
     ]
    },
    {
     "name": "stderr",
     "output_type": "stream",
     "text": [
      "       7/30      5.48G      1.356      1.662      1.207        503        640: 100%|██████████| 106/106 [02:37<00:00,  \n",
      "                 Class     Images  Instances      Box(P          R      mAP50  mAP50-95): 100%|██████████| 16/16 [00:23"
     ]
    },
    {
     "name": "stdout",
     "output_type": "stream",
     "text": [
      "                   all        482      20888      0.455      0.317      0.278      0.183\n"
     ]
    },
    {
     "name": "stderr",
     "output_type": "stream",
     "text": [
      "\n"
     ]
    },
    {
     "name": "stdout",
     "output_type": "stream",
     "text": [
      "\n",
      "      Epoch    GPU_mem   box_loss   cls_loss   dfl_loss  Instances       Size\n"
     ]
    },
    {
     "name": "stderr",
     "output_type": "stream",
     "text": [
      "       8/30      8.02G      1.343      1.649      1.199        718        640: 100%|██████████| 106/106 [02:50<00:00,  \n",
      "                 Class     Images  Instances      Box(P          R      mAP50  mAP50-95): 100%|██████████| 16/16 [00:23"
     ]
    },
    {
     "name": "stdout",
     "output_type": "stream",
     "text": [
      "                   all        482      20888      0.443      0.368      0.324      0.218\n"
     ]
    },
    {
     "name": "stderr",
     "output_type": "stream",
     "text": [
      "\n"
     ]
    },
    {
     "name": "stdout",
     "output_type": "stream",
     "text": [
      "\n",
      "      Epoch    GPU_mem   box_loss   cls_loss   dfl_loss  Instances       Size\n"
     ]
    },
    {
     "name": "stderr",
     "output_type": "stream",
     "text": [
      "       9/30      7.29G      1.316      1.621      1.188        455        640: 100%|██████████| 106/106 [02:07<00:00,  \n",
      "                 Class     Images  Instances      Box(P          R      mAP50  mAP50-95): 100%|██████████| 16/16 [00:20"
     ]
    },
    {
     "name": "stdout",
     "output_type": "stream",
     "text": [
      "                   all        482      20888      0.458      0.342      0.301      0.203\n"
     ]
    },
    {
     "name": "stderr",
     "output_type": "stream",
     "text": [
      "\n"
     ]
    },
    {
     "name": "stdout",
     "output_type": "stream",
     "text": [
      "\n",
      "      Epoch    GPU_mem   box_loss   cls_loss   dfl_loss  Instances       Size\n"
     ]
    },
    {
     "name": "stderr",
     "output_type": "stream",
     "text": [
      "      10/30      7.74G      1.299      1.592      1.183        501        640: 100%|██████████| 106/106 [02:09<00:00,  \n",
      "                 Class     Images  Instances      Box(P          R      mAP50  mAP50-95): 100%|██████████| 16/16 [00:19"
     ]
    },
    {
     "name": "stdout",
     "output_type": "stream",
     "text": [
      "                   all        482      20888      0.484      0.341      0.333      0.223\n"
     ]
    },
    {
     "name": "stderr",
     "output_type": "stream",
     "text": [
      "\n"
     ]
    },
    {
     "name": "stdout",
     "output_type": "stream",
     "text": [
      "\n",
      "      Epoch    GPU_mem   box_loss   cls_loss   dfl_loss  Instances       Size\n"
     ]
    },
    {
     "name": "stderr",
     "output_type": "stream",
     "text": [
      "      11/30      8.58G      1.292      1.579      1.178        407        640: 100%|██████████| 106/106 [02:54<00:00,  \n",
      "                 Class     Images  Instances      Box(P          R      mAP50  mAP50-95): 100%|██████████| 16/16 [00:21"
     ]
    },
    {
     "name": "stdout",
     "output_type": "stream",
     "text": [
      "                   all        482      20888      0.372      0.367      0.329      0.225\n"
     ]
    },
    {
     "name": "stderr",
     "output_type": "stream",
     "text": [
      "\n"
     ]
    },
    {
     "name": "stdout",
     "output_type": "stream",
     "text": [
      "\n",
      "      Epoch    GPU_mem   box_loss   cls_loss   dfl_loss  Instances       Size\n"
     ]
    },
    {
     "name": "stderr",
     "output_type": "stream",
     "text": [
      "      12/30      6.89G      1.269      1.535      1.165        553        640: 100%|██████████| 106/106 [02:06<00:00,  \n",
      "                 Class     Images  Instances      Box(P          R      mAP50  mAP50-95): 100%|██████████| 16/16 [00:20"
     ]
    },
    {
     "name": "stdout",
     "output_type": "stream",
     "text": [
      "                   all        482      20888      0.416      0.416      0.351      0.241\n"
     ]
    },
    {
     "name": "stderr",
     "output_type": "stream",
     "text": [
      "\n"
     ]
    },
    {
     "name": "stdout",
     "output_type": "stream",
     "text": [
      "\n",
      "      Epoch    GPU_mem   box_loss   cls_loss   dfl_loss  Instances       Size\n"
     ]
    },
    {
     "name": "stderr",
     "output_type": "stream",
     "text": [
      "      13/30      6.73G       1.25      1.516      1.153        488        640: 100%|██████████| 106/106 [02:18<00:00,  \n",
      "                 Class     Images  Instances      Box(P          R      mAP50  mAP50-95): 100%|██████████| 16/16 [00:20"
     ]
    },
    {
     "name": "stdout",
     "output_type": "stream",
     "text": [
      "                   all        482      20888      0.452       0.39      0.343      0.235\n"
     ]
    },
    {
     "name": "stderr",
     "output_type": "stream",
     "text": [
      "\n"
     ]
    },
    {
     "name": "stdout",
     "output_type": "stream",
     "text": [
      "\n",
      "      Epoch    GPU_mem   box_loss   cls_loss   dfl_loss  Instances       Size\n"
     ]
    },
    {
     "name": "stderr",
     "output_type": "stream",
     "text": [
      "      14/30      7.68G      1.235      1.491      1.155        649        640: 100%|██████████| 106/106 [02:11<00:00,  \n",
      "                 Class     Images  Instances      Box(P          R      mAP50  mAP50-95): 100%|██████████| 16/16 [00:20"
     ]
    },
    {
     "name": "stdout",
     "output_type": "stream",
     "text": [
      "                   all        482      20888      0.458      0.404      0.355      0.243\n"
     ]
    },
    {
     "name": "stderr",
     "output_type": "stream",
     "text": [
      "\n"
     ]
    },
    {
     "name": "stdout",
     "output_type": "stream",
     "text": [
      "\n",
      "      Epoch    GPU_mem   box_loss   cls_loss   dfl_loss  Instances       Size\n"
     ]
    },
    {
     "name": "stderr",
     "output_type": "stream",
     "text": [
      "      15/30      7.12G      1.227      1.476      1.152        663        640: 100%|██████████| 106/106 [02:42<00:00,  \n",
      "                 Class     Images  Instances      Box(P          R      mAP50  mAP50-95): 100%|██████████| 16/16 [00:21"
     ]
    },
    {
     "name": "stdout",
     "output_type": "stream",
     "text": [
      "                   all        482      20888      0.449       0.39      0.364      0.252\n"
     ]
    },
    {
     "name": "stderr",
     "output_type": "stream",
     "text": [
      "\n"
     ]
    },
    {
     "name": "stdout",
     "output_type": "stream",
     "text": [
      "\n",
      "      Epoch    GPU_mem   box_loss   cls_loss   dfl_loss  Instances       Size\n"
     ]
    },
    {
     "name": "stderr",
     "output_type": "stream",
     "text": [
      "      16/30      7.44G      1.208      1.449      1.139        296        640: 100%|██████████| 106/106 [02:23<00:00,  \n",
      "                 Class     Images  Instances      Box(P          R      mAP50  mAP50-95): 100%|██████████| 16/16 [00:24"
     ]
    },
    {
     "name": "stdout",
     "output_type": "stream",
     "text": [
      "                   all        482      20888      0.442      0.391      0.368      0.253\n"
     ]
    },
    {
     "name": "stderr",
     "output_type": "stream",
     "text": [
      "\n"
     ]
    },
    {
     "name": "stdout",
     "output_type": "stream",
     "text": [
      "\n",
      "      Epoch    GPU_mem   box_loss   cls_loss   dfl_loss  Instances       Size\n"
     ]
    },
    {
     "name": "stderr",
     "output_type": "stream",
     "text": [
      "      17/30      7.36G      1.199       1.42      1.134       1043        640: 100%|██████████| 106/106 [02:32<00:00,  \n",
      "                 Class     Images  Instances      Box(P          R      mAP50  mAP50-95): 100%|██████████| 16/16 [00:22"
     ]
    },
    {
     "name": "stdout",
     "output_type": "stream",
     "text": [
      "                   all        482      20888      0.396      0.397      0.352       0.24\n"
     ]
    },
    {
     "name": "stderr",
     "output_type": "stream",
     "text": [
      "\n"
     ]
    },
    {
     "name": "stdout",
     "output_type": "stream",
     "text": [
      "\n",
      "      Epoch    GPU_mem   box_loss   cls_loss   dfl_loss  Instances       Size\n"
     ]
    },
    {
     "name": "stderr",
     "output_type": "stream",
     "text": [
      "      18/30      8.33G       1.18      1.401      1.126        651        640: 100%|██████████| 106/106 [02:26<00:00,  \n",
      "                 Class     Images  Instances      Box(P          R      mAP50  mAP50-95): 100%|██████████| 16/16 [00:22"
     ]
    },
    {
     "name": "stdout",
     "output_type": "stream",
     "text": [
      "                   all        482      20888      0.505      0.391      0.381       0.26\n"
     ]
    },
    {
     "name": "stderr",
     "output_type": "stream",
     "text": [
      "\n"
     ]
    },
    {
     "name": "stdout",
     "output_type": "stream",
     "text": [
      "\n",
      "      Epoch    GPU_mem   box_loss   cls_loss   dfl_loss  Instances       Size\n"
     ]
    },
    {
     "name": "stderr",
     "output_type": "stream",
     "text": [
      "      19/30      6.85G      1.176      1.378      1.126        590        640: 100%|██████████| 106/106 [02:09<00:00,  \n",
      "                 Class     Images  Instances      Box(P          R      mAP50  mAP50-95): 100%|██████████| 16/16 [00:20"
     ]
    },
    {
     "name": "stdout",
     "output_type": "stream",
     "text": [
      "                   all        482      20888      0.476      0.377      0.372      0.262\n"
     ]
    },
    {
     "name": "stderr",
     "output_type": "stream",
     "text": [
      "\n"
     ]
    },
    {
     "name": "stdout",
     "output_type": "stream",
     "text": [
      "\n",
      "      Epoch    GPU_mem   box_loss   cls_loss   dfl_loss  Instances       Size\n"
     ]
    },
    {
     "name": "stderr",
     "output_type": "stream",
     "text": [
      "      20/30      6.67G      1.154      1.346      1.114        440        640: 100%|██████████| 106/106 [02:39<00:00,  \n",
      "                 Class     Images  Instances      Box(P          R      mAP50  mAP50-95): 100%|██████████| 16/16 [00:22"
     ]
    },
    {
     "name": "stdout",
     "output_type": "stream",
     "text": [
      "                   all        482      20888      0.421      0.395      0.348      0.242\n"
     ]
    },
    {
     "name": "stderr",
     "output_type": "stream",
     "text": [
      "\n"
     ]
    },
    {
     "name": "stdout",
     "output_type": "stream",
     "text": [
      "Closing dataloader mosaic\n",
      "\n",
      "      Epoch    GPU_mem   box_loss   cls_loss   dfl_loss  Instances       Size\n"
     ]
    },
    {
     "name": "stderr",
     "output_type": "stream",
     "text": [
      "      21/30      6.31G      1.144      1.333      1.114        405        640: 100%|██████████| 106/106 [02:01<00:00,  \n",
      "                 Class     Images  Instances      Box(P          R      mAP50  mAP50-95): 100%|██████████| 16/16 [00:22"
     ]
    },
    {
     "name": "stdout",
     "output_type": "stream",
     "text": [
      "                   all        482      20888      0.438      0.407      0.356      0.246\n"
     ]
    },
    {
     "name": "stderr",
     "output_type": "stream",
     "text": [
      "\n"
     ]
    },
    {
     "name": "stdout",
     "output_type": "stream",
     "text": [
      "\n",
      "      Epoch    GPU_mem   box_loss   cls_loss   dfl_loss  Instances       Size\n"
     ]
    },
    {
     "name": "stderr",
     "output_type": "stream",
     "text": [
      "      22/30      6.54G      1.134       1.29      1.108        288        640: 100%|██████████| 106/106 [01:52<00:00,  \n",
      "                 Class     Images  Instances      Box(P          R      mAP50  mAP50-95): 100%|██████████| 16/16 [00:22"
     ]
    },
    {
     "name": "stdout",
     "output_type": "stream",
     "text": [
      "                   all        482      20888      0.484      0.411      0.372      0.261\n"
     ]
    },
    {
     "name": "stderr",
     "output_type": "stream",
     "text": [
      "\n"
     ]
    },
    {
     "name": "stdout",
     "output_type": "stream",
     "text": [
      "\n",
      "      Epoch    GPU_mem   box_loss   cls_loss   dfl_loss  Instances       Size\n"
     ]
    },
    {
     "name": "stderr",
     "output_type": "stream",
     "text": [
      "      23/30      6.38G      1.119      1.257      1.101        339        640: 100%|██████████| 106/106 [01:28<00:00,  \n",
      "                 Class     Images  Instances      Box(P          R      mAP50  mAP50-95): 100%|██████████| 16/16 [00:21"
     ]
    },
    {
     "name": "stdout",
     "output_type": "stream",
     "text": [
      "                   all        482      20888       0.51      0.372      0.374      0.265\n"
     ]
    },
    {
     "name": "stderr",
     "output_type": "stream",
     "text": [
      "\n"
     ]
    },
    {
     "name": "stdout",
     "output_type": "stream",
     "text": [
      "\n",
      "      Epoch    GPU_mem   box_loss   cls_loss   dfl_loss  Instances       Size\n"
     ]
    },
    {
     "name": "stderr",
     "output_type": "stream",
     "text": [
      "      24/30      6.99G      1.101      1.221      1.092        392        640: 100%|██████████| 106/106 [02:03<00:00,  \n",
      "                 Class     Images  Instances      Box(P          R      mAP50  mAP50-95): 100%|██████████| 16/16 [00:22"
     ]
    },
    {
     "name": "stdout",
     "output_type": "stream",
     "text": [
      "                   all        482      20888      0.435       0.39      0.362      0.254\n"
     ]
    },
    {
     "name": "stderr",
     "output_type": "stream",
     "text": [
      "\n"
     ]
    },
    {
     "name": "stdout",
     "output_type": "stream",
     "text": [
      "\n",
      "      Epoch    GPU_mem   box_loss   cls_loss   dfl_loss  Instances       Size\n"
     ]
    },
    {
     "name": "stderr",
     "output_type": "stream",
     "text": [
      "      25/30      7.55G       1.08       1.18      1.085        306        640: 100%|██████████| 106/106 [01:27<00:00,  \n",
      "                 Class     Images  Instances      Box(P          R      mAP50  mAP50-95): 100%|██████████| 16/16 [00:21"
     ]
    },
    {
     "name": "stdout",
     "output_type": "stream",
     "text": [
      "                   all        482      20888      0.495      0.406      0.382      0.262\n"
     ]
    },
    {
     "name": "stderr",
     "output_type": "stream",
     "text": [
      "\n"
     ]
    },
    {
     "name": "stdout",
     "output_type": "stream",
     "text": [
      "\n",
      "      Epoch    GPU_mem   box_loss   cls_loss   dfl_loss  Instances       Size\n"
     ]
    },
    {
     "name": "stderr",
     "output_type": "stream",
     "text": [
      "      26/30      6.71G      1.072      1.152       1.08        239        640: 100%|██████████| 106/106 [01:31<00:00,  \n",
      "                 Class     Images  Instances      Box(P          R      mAP50  mAP50-95): 100%|██████████| 16/16 [00:20"
     ]
    },
    {
     "name": "stdout",
     "output_type": "stream",
     "text": [
      "                   all        482      20888      0.461      0.406      0.371      0.261\n"
     ]
    },
    {
     "name": "stderr",
     "output_type": "stream",
     "text": [
      "\n"
     ]
    },
    {
     "name": "stdout",
     "output_type": "stream",
     "text": [
      "\n",
      "      Epoch    GPU_mem   box_loss   cls_loss   dfl_loss  Instances       Size\n"
     ]
    },
    {
     "name": "stderr",
     "output_type": "stream",
     "text": [
      "      27/30      7.28G      1.052      1.118      1.071        306        640: 100%|██████████| 106/106 [06:30<00:00,  \n",
      "                 Class     Images  Instances      Box(P          R      mAP50  mAP50-95): 100%|██████████| 16/16 [00:39"
     ]
    },
    {
     "name": "stdout",
     "output_type": "stream",
     "text": [
      "                   all        482      20888      0.479      0.374      0.381      0.273\n"
     ]
    },
    {
     "name": "stderr",
     "output_type": "stream",
     "text": [
      "\n"
     ]
    },
    {
     "name": "stdout",
     "output_type": "stream",
     "text": [
      "\n",
      "      Epoch    GPU_mem   box_loss   cls_loss   dfl_loss  Instances       Size\n"
     ]
    },
    {
     "name": "stderr",
     "output_type": "stream",
     "text": [
      "      28/30      7.27G      1.033      1.097      1.067        371        640: 100%|██████████| 106/106 [01:15<00:00,  \n",
      "                 Class     Images  Instances      Box(P          R      mAP50  mAP50-95): 100%|██████████| 16/16 [00:19"
     ]
    },
    {
     "name": "stdout",
     "output_type": "stream",
     "text": [
      "                   all        482      20888      0.474      0.392      0.385      0.271\n"
     ]
    },
    {
     "name": "stderr",
     "output_type": "stream",
     "text": [
      "\n"
     ]
    },
    {
     "name": "stdout",
     "output_type": "stream",
     "text": [
      "\n",
      "      Epoch    GPU_mem   box_loss   cls_loss   dfl_loss  Instances       Size\n"
     ]
    },
    {
     "name": "stderr",
     "output_type": "stream",
     "text": [
      "      29/30      7.85G       1.03      1.076      1.063        531        640: 100%|██████████| 106/106 [01:20<00:00,  \n",
      "                 Class     Images  Instances      Box(P          R      mAP50  mAP50-95): 100%|██████████| 16/16 [00:21"
     ]
    },
    {
     "name": "stdout",
     "output_type": "stream",
     "text": [
      "                   all        482      20888      0.426      0.412      0.386      0.272\n"
     ]
    },
    {
     "name": "stderr",
     "output_type": "stream",
     "text": [
      "\n"
     ]
    },
    {
     "name": "stdout",
     "output_type": "stream",
     "text": [
      "\n",
      "      Epoch    GPU_mem   box_loss   cls_loss   dfl_loss  Instances       Size\n"
     ]
    },
    {
     "name": "stderr",
     "output_type": "stream",
     "text": [
      "      30/30      6.69G      1.016      1.054      1.054        314        640: 100%|██████████| 106/106 [07:02<00:00,  \n",
      "                 Class     Images  Instances      Box(P          R      mAP50  mAP50-95): 100%|██████████| 16/16 [00:38"
     ]
    },
    {
     "name": "stdout",
     "output_type": "stream",
     "text": [
      "                   all        482      20888      0.443      0.425      0.389      0.276\n"
     ]
    },
    {
     "name": "stderr",
     "output_type": "stream",
     "text": [
      "\n"
     ]
    },
    {
     "name": "stdout",
     "output_type": "stream",
     "text": [
      "\n",
      "30 epochs completed in 1.500 hours.\n",
      "Optimizer stripped from runs\\detect\\webpage_elements_detection9\\weights\\last.pt, 18.5MB\n",
      "Optimizer stripped from runs\\detect\\webpage_elements_detection9\\weights\\best.pt, 18.5MB\n",
      "\n",
      "Validating runs\\detect\\webpage_elements_detection9\\weights\\best.pt...\n",
      "Ultralytics 8.3.57  Python-3.11.11 torch-2.5.1+cu118 CUDA:0 (NVIDIA GeForce RTX 3050 Laptop GPU, 4096MiB)\n",
      "YOLOv5s summary (fused): 193 layers, 9,114,632 parameters, 0 gradients, 23.8 GFLOPs\n"
     ]
    },
    {
     "name": "stderr",
     "output_type": "stream",
     "text": [
      "                 Class     Images  Instances      Box(P          R      mAP50  mAP50-95): 100%|██████████| 16/16 [00:12\n"
     ]
    },
    {
     "name": "stdout",
     "output_type": "stream",
     "text": [
      "                   all        482      20888      0.443      0.425      0.389      0.276\n",
      "                header        454       6354      0.503      0.454      0.435      0.294\n",
      "                navbar        242        366      0.555      0.628      0.604      0.489\n",
      "                button        428       1508       0.36      0.481       0.39       0.26\n",
      "             text_area        102        158      0.348      0.392      0.281      0.212\n",
      "                footer        468       3766      0.529      0.482      0.471      0.332\n",
      "                 image         20         34      0.424      0.235      0.272        0.2\n",
      "                  link        380       2654      0.443      0.359      0.352      0.243\n",
      "                  text        468       6048      0.381      0.369      0.309      0.175\n",
      "Speed: 0.3ms preprocess, 4.6ms inference, 0.0ms loss, 5.0ms postprocess per image\n",
      "Results saved to \u001b[1mruns\\detect\\webpage_elements_detection9\u001b[0m\n",
      "Training completed successfully!\n"
     ]
    }
   ],
   "source": [
    "try:\n",
    "    model = YOLO('yolov5s.pt')  # Load YOLOv5 small model\n",
    "    results = model.train(\n",
    "        data=yaml_path,\n",
    "        epochs=30,\n",
    "        imgsz=640,\n",
    "        batch=16,\n",
    "        device=0,  # Ensure GPU is used\n",
    "        name=\"webpage_elements_detection\"\n",
    "    )\n",
    "    print(\"Training completed successfully!\")\n",
    "except Exception as e:\n",
    "    print(f\"An error occurred during training: {e}\")"
   ]
  },
  {
   "cell_type": "code",
   "execution_count": null,
   "id": "3e205bde-7522-40af-85c7-6684e1c256ca",
   "metadata": {},
   "outputs": [],
   "source": []
  }
 ],
 "metadata": {
  "kernelspec": {
   "display_name": "webuikernel",
   "language": "python",
   "name": "webuikernel"
  },
  "language_info": {
   "codemirror_mode": {
    "name": "ipython",
    "version": 3
   },
   "file_extension": ".py",
   "mimetype": "text/x-python",
   "name": "python",
   "nbconvert_exporter": "python",
   "pygments_lexer": "ipython3",
   "version": "3.11.11"
  }
 },
 "nbformat": 4,
 "nbformat_minor": 5
}
